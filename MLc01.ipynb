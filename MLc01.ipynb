{
 "cells": [
  {
   "cell_type": "markdown",
   "metadata": {},
   "source": [
    "\"Does money make people happier?\" \n",
    "Let's see. We downloaded Better Life Index data from the OECD's website and stats about gross domestic product(GDP) from the IMF's website. We combined these two and searched for a trend.\n",
    "\n",
    "**Step 0:** Importing necessary modules."
   ]
  },
  {
   "cell_type": "code",
   "execution_count": 68,
   "metadata": {},
   "outputs": [],
   "source": [
    "import matplotlib.pyplot as plt\n",
    "import numpy as np\n",
    "import pandas as pd\n",
    "import sklearn.linear_model\n",
    "import sklearn.neighbors"
   ]
  },
  {
   "cell_type": "markdown",
   "metadata": {},
   "source": [
    "**Step 1**: Loading data."
   ]
  },
  {
   "cell_type": "code",
   "execution_count": 69,
   "metadata": {},
   "outputs": [],
   "source": [
    "oecd_bli = pd.read_csv(\"oecd_bli_2015.csv\",thousands=',')\n",
    "gdp_per_capita = pd.read_csv(\"gdp_per_capita.csv\",thousands=',',delimiter='\\t', encoding='latin1', na_values=\"n/a\")"
   ]
  },
  {
   "cell_type": "markdown",
   "metadata": {},
   "source": [
    "**Step 2:** Preparing the data.\n",
    "Here, we join two data tables and make another table called country_stats which has three columns: country, GDP_per_capita from gdp_per_capita table and Life Satisfaction from oecd_bli. Let's prepare data and see how the new table looks."
   ]
  },
  {
   "cell_type": "code",
   "execution_count": 70,
   "metadata": {},
   "outputs": [
    {
     "name": "stdout",
     "output_type": "stream",
     "text": [
      "                 GDP per capita  Life satisfaction\n",
      "Country                                           \n",
      "Russia                 9054.914                6.0\n",
      "Turkey                 9437.372                5.6\n",
      "Hungary               12239.894                4.9\n",
      "Poland                12495.334                5.8\n",
      "Slovak Republic       15991.736                6.1\n",
      "Estonia               17288.083                5.6\n",
      "Greece                18064.288                4.8\n",
      "Portugal              19121.592                5.1\n",
      "Slovenia              20732.482                5.7\n",
      "Spain                 25864.721                6.5\n"
     ]
    }
   ],
   "source": [
    "#this part is copied from https://github.com/ageron/handson-ml2 , I don't understand this yet \n",
    "def prepare_country_stats(oecd_bli, gdp_per_capita):\n",
    "    oecd_bli = oecd_bli[oecd_bli[\"INEQUALITY\"]==\"TOT\"]\n",
    "    oecd_bli = oecd_bli.pivot(index=\"Country\", columns=\"Indicator\", values=\"Value\")\n",
    "    gdp_per_capita.rename(columns={\"2015\": \"GDP per capita\"}, inplace=True)\n",
    "    gdp_per_capita.set_index(\"Country\", inplace=True)\n",
    "    full_country_stats = pd.merge(left=oecd_bli, right=gdp_per_capita,\n",
    "                                  left_index=True, right_index=True)\n",
    "    full_country_stats.sort_values(by=\"GDP per capita\", inplace=True)\n",
    "    remove_indices = [0, 1, 6, 8, 33, 34, 35]\n",
    "    keep_indices = list(set(range(36)) - set(remove_indices))\n",
    "    return full_country_stats[[\"GDP per capita\", 'Life satisfaction']].iloc[keep_indices]\n",
    "\n",
    "# Prepare the data\n",
    "country_stats = prepare_country_stats(oecd_bli, gdp_per_capita)\n",
    "X = np.c_[country_stats[\"GDP per capita\"]]\n",
    "y = np.c_[country_stats[\"Life satisfaction\"]]\n",
    "\n",
    "print(country_stats.head(10))"
   ]
  },
  {
   "cell_type": "markdown",
   "metadata": {},
   "source": [
    "**Step 2:** Analyzing data"
   ]
  },
  {
   "cell_type": "code",
   "execution_count": 71,
   "metadata": {},
   "outputs": [
    {
     "data": {
      "image/png": "[encoded data removed]",
      "text/plain": [
       "<Figure size 360x216 with 1 Axes>"
      ]
     },
     "metadata": {
      "needs_background": "light"
     },
     "output_type": "display_data"
    }
   ],
   "source": [
    "# Visualize the data\n",
    "country_stats.plot(kind='scatter', x=\"GDP per capita\", y='Life satisfaction', figsize=(5,3))\n",
    "plt.axis([0, 60000, 0, 10])\n",
    "plt.show()"
   ]
  },
  {
   "cell_type": "markdown",
   "metadata": {},
   "source": [
    "**Step 3:** Implementing a model\n",
    "\n",
    "As, we can see, life satisfaction goes up more or less linearly with the increment of GDP per capita. So, we can decide that life satisfaction is a linear function of GDP per capita.\n",
    "\n",
    "life_satisfaction = θ0 + θ1 × GDP_per_capita\n",
    "\n",
    "We jhave to now select a model. In this case, we will be implementing linear regression model which selects the optimal  θ0,θ1 for given data."
   ]
  },
  {
   "cell_type": "code",
   "execution_count": 72,
   "metadata": {},
   "outputs": [
    {
     "data": {
      "text/plain": [
       "LinearRegression(copy_X=True, fit_intercept=True, n_jobs=None, normalize=False)"
      ]
     },
     "execution_count": 72,
     "metadata": {},
     "output_type": "execute_result"
    }
   ],
   "source": [
    "# Select a linear model\n",
    "model = sklearn.linear_model.LinearRegression()\n",
    "#model = sklearn.neighbors.KNeighborsRegressor(n_neighbors=3) #come back later\n",
    "\n",
    "# Train the model\n",
    "model.fit(X, y)\n"
   ]
  },
  {
   "cell_type": "markdown",
   "metadata": {},
   "source": [
    "We can also check the values the model returned for θ0,θ1 and show it on the graph.\n"
   ]
  },
  {
   "cell_type": "code",
   "execution_count": 73,
   "metadata": {},
   "outputs": [
    {
     "name": "stdout",
     "output_type": "stream",
     "text": [
      "4.853052800266436 4.911544589158483e-05\n"
     ]
    }
   ],
   "source": [
    "#the values of theta0 and theta1 \n",
    "t0, t1 = model.intercept_[0], model.coef_[0][0]\n",
    "print(t0, t1)"
   ]
  },
  {
   "cell_type": "markdown",
   "metadata": {},
   "source": [
    "As, we can see, we got the values of θ0 and θ1, 4.85 and 4.91 x 10^-5 respectively."
   ]
  },
  {
   "cell_type": "code",
   "execution_count": 74,
   "metadata": {},
   "outputs": [
    {
     "data": {
      "image/png": "[encoded data removed]",
      "text/plain": [
       "<Figure size 360x216 with 1 Axes>"
      ]
     },
     "metadata": {
      "needs_background": "light"
     },
     "output_type": "display_data"
    }
   ],
   "source": [
    "#showing the line\n",
    "country_stats.plot(kind='scatter', x=\"GDP per capita\", y='Life satisfaction', figsize=(5,3))\n",
    "plt.xlabel(\"GDP per capita (USD)\")\n",
    "plt.axis([0, 60000, 0, 10])\n",
    "X=np.linspace(0, 60000, 1000)\n",
    "\n",
    "plt.plot(X, t0 + t1*X, \"m\")\n",
    "\n",
    "plt.text(5000, 3.1, r\"$\\theta_0 = 4.85$\", fontsize=14, color=\"b\")\n",
    "plt.text(5000, 2.2, r\"$\\theta_1 = 4.91 \\times 10^{-5}$\", fontsize=14, color=\"b\")\n",
    "plt.show()"
   ]
  },
  {
   "cell_type": "markdown",
   "metadata": {},
   "source": [
    "For Linear Regression problems, people typically use a cost function that measures the distance between the linear model’s\n",
    "predictions and the training examples; the objective is to minimize this distance.\n",
    "This is where the Linear Regression algorithm comes in: we have to feed it our training examples, and it finds the parameters that make the linear model fit best to our data. This is called training the model. In our case, the algorithm finds that the optimal parameter values are θ0 = 4.85 and θ1 = 4.91 × 10^–5. [from book: Hands on Machine Learning with Scikit-Learn, Keras and Tensorflow by Aurélien Géron]"
   ]
  },
  {
   "cell_type": "markdown",
   "metadata": {},
   "source": [
    "**Step 4:** Predicting for new data.\n",
    "\n",
    "Now, we will check what it predicts for unseen data. We see,Cyprus’s GDP per capita is $22,587, and so by applying our model, life satisfaction should likely be somewhere around 4.85 + 22,587 × 4.91 × 10-5 = 5.96."
   ]
  },
  {
   "cell_type": "code",
   "execution_count": 75,
   "metadata": {},
   "outputs": [
    {
     "name": "stdout",
     "output_type": "stream",
     "text": [
      "[[5.96242338]]\n"
     ]
    }
   ],
   "source": [
    "X_new = [[22587]] # Cyprus's GDP per capita\n",
    "print(model.predict(X_new)) # outputs [[ 5.96242338]] #outputs 5.77 for kNN"
   ]
  },
  {
   "cell_type": "markdown",
   "metadata": {},
   "source": [
    "Okay.\n",
    "Now, this was model based training, if we wanted to use instance-based training, we would have used K-nearest neighbor. Let's see, what it predicts for Cyprus.\n",
    "We just have to go back to the code where we implemented linear regression model In[72] and instead of linear regression model , we have to select k nearest neighbors. Then, at last, the model will output 5.77 for Cyprus. What it does for kNN is, it selcects k (here k=3) nearest neighbors (nearest 3 GDPs to Cyprus') and calculates their average of life satisfaction and assigns this for Cyprus. In this case,we can see, the answers for kNN (instance based training) and for linear regression model (model based training) are pretty close."
   ]
  },
  {
   "cell_type": "markdown",
   "metadata": {},
   "source": [
    "This is all for now. Hopefully, we can select and implement a model for any given data and make good predictions from them."
   ]
  }
 ],
 "metadata": {
  "kernelspec": {
   "display_name": "Python 3",
   "language": "python",
   "name": "python3"
  },
  "language_info": {
   "codemirror_mode": {
    "name": "ipython",
    "version": 3
   },
   "file_extension": ".py",
   "mimetype": "text/x-python",
   "name": "python",
   "nbconvert_exporter": "python",
   "pygments_lexer": "ipython3",
   "version": "3.7.4"
  }
 },
 "nbformat": 4,
 "nbformat_minor": 2
}
